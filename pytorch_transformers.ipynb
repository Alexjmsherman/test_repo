{
  "nbformat": 4,
  "nbformat_minor": 0,
  "metadata": {
    "colab": {
      "name": "pytorch_transformers.ipynb",
      "provenance": [],
      "collapsed_sections": [],
      "include_colab_link": true
    },
    "kernelspec": {
      "name": "python3",
      "display_name": "Python 3"
    }
  },
  "cells": [
    {
      "cell_type": "markdown",
      "metadata": {
        "id": "view-in-github",
        "colab_type": "text"
      },
      "source": [
        "<a href=\"https://colab.research.google.com/github/Alexjmsherman/test_repo/blob/master/pytorch_transformers.ipynb\" target=\"_parent\"><img src=\"https://colab.research.google.com/assets/colab-badge.svg\" alt=\"Open In Colab\"/></a>"
      ]
    },
    {
      "cell_type": "code",
      "metadata": {
        "id": "3HjqjtkjzV-_",
        "colab_type": "code",
        "colab": {}
      },
      "source": [
        "!pip install spacy-transformers"
      ],
      "execution_count": 0,
      "outputs": []
    },
    {
      "cell_type": "code",
      "metadata": {
        "colab_type": "code",
        "id": "UZw_KQ7LBlQF",
        "colab": {}
      },
      "source": [
        "!python -m spacy download en_core_web_lg"
      ],
      "execution_count": 0,
      "outputs": []
    },
    {
      "cell_type": "code",
      "metadata": {
        "id": "gIEotr9WyMeM",
        "colab_type": "code",
        "colab": {}
      },
      "source": [
        "!python -m spacy download en_trf_distilbertbaseuncased_lg"
      ],
      "execution_count": 0,
      "outputs": []
    },
    {
      "cell_type": "code",
      "metadata": {
        "id": "QRxhvIlaH6FI",
        "colab_type": "code",
        "colab": {}
      },
      "source": [
        "!python -m spacy download en_trf_robertabase_lg"
      ],
      "execution_count": 0,
      "outputs": []
    },
    {
      "cell_type": "code",
      "metadata": {
        "id": "8g13qYVrJjHx",
        "colab_type": "code",
        "colab": {}
      },
      "source": [
        "!python -m spacy download en_trf_xlnetbasecased_lg"
      ],
      "execution_count": 0,
      "outputs": []
    },
    {
      "cell_type": "code",
      "metadata": {
        "id": "QRb956Q0MnEo",
        "colab_type": "code",
        "colab": {}
      },
      "source": [
        "!python -m spacy download en_trf_bertbaseuncased_lg"
      ],
      "execution_count": 0,
      "outputs": []
    },
    {
      "cell_type": "code",
      "metadata": {
        "id": "kJcglD8lyFGe",
        "colab_type": "code",
        "colab": {}
      },
      "source": [
        "from itertools import combinations\n",
        "import os\n",
        "import random\n",
        "\n",
        "import numpy as np\n",
        "import pandas as pd\n",
        "from sklearn.model_selection import train_test_split\n",
        "from sklearn import metrics\n",
        "from sklearn.metrics.pairwise import cosine_similarity\n",
        "import spacy\n",
        "from spacy.util import minibatch\n",
        "import torch"
      ],
      "execution_count": 0,
      "outputs": []
    },
    {
      "cell_type": "code",
      "metadata": {
        "id": "3YVNRHL4ySxc",
        "colab_type": "code",
        "colab": {}
      },
      "source": [
        "is_using_gpu = spacy.prefer_gpu()\n",
        "print(f'is_using_gpu: {is_using_gpu}')\n",
        "if is_using_gpu:\n",
        "    torch.set_default_tensor_type(\"torch.cuda.FloatTensor\")\n",
        "\n",
        "nlp = spacy.load('en_trf_distilbertbaseuncased_lg')"
      ],
      "execution_count": 0,
      "outputs": []
    },
    {
      "cell_type": "code",
      "metadata": {
        "id": "zfBWofk5yOYM",
        "colab_type": "code",
        "colab": {}
      },
      "source": [
        "# download NIH Project Data\n",
        "!wget https://exporter.nih.gov/CSVs/final/RePORTER_PRJ_C_FY2017.zip"
      ],
      "execution_count": 0,
      "outputs": []
    },
    {
      "cell_type": "code",
      "metadata": {
        "id": "SZzWcJKKyOwz",
        "colab_type": "code",
        "colab": {}
      },
      "source": [
        "REPORTER_DATA_PATH = r'RePORTER_PRJ_C_FY2017.zip'\n",
        "\n",
        "# view the data\n",
        "df = pd.read_csv(\n",
        "    REPORTER_DATA_PATH,\n",
        "    encoding='latin-1'  # common encoding to handle messy data\n",
        ")\n",
        "\n",
        "# filter to relevant columns\n",
        "df = df[['ADMINISTERING_IC', 'FY',  'IC_NAME', 'PROJECT_TITLE']]\n",
        "\n",
        "# convert IC counts to a dataframe\n",
        "top_ic = df['IC_NAME'].value_counts().reset_index()\n",
        "\n",
        "# filter to top ICs\n",
        "top_ic_names = top_ic[top_ic.IC_NAME > 1500]['index'][0:2]\n",
        "\n",
        "# view new data subset\n",
        "df = df[df['IC_NAME'].isin(top_ic_names)]\n",
        "\n",
        "# set the labels as a new column\n",
        "df['IC_NUM'] = df['ADMINISTERING_IC'].factorize()[0]\n",
        "\n",
        "# create a map of IC nums to names for later reference\n",
        "ic_name_map = {num:name for num, name in df[['IC_NUM','IC_NAME']].drop_duplicates().values}"
      ],
      "execution_count": 0,
      "outputs": []
    },
    {
      "cell_type": "markdown",
      "metadata": {
        "id": "2MIDGE8V2yPK",
        "colab_type": "text"
      },
      "source": [
        "## Pytorch Transformers"
      ]
    },
    {
      "cell_type": "code",
      "metadata": {
        "id": "GSS623qb1rmi",
        "colab_type": "code",
        "colab": {}
      },
      "source": [
        "#title = df['PROJECT_TITLE'].values[0]\n",
        "\n",
        "#doc = nlp(title)\n",
        "doc = nlp(\"Apple shares rose on the news news\")"
      ],
      "execution_count": 0,
      "outputs": []
    },
    {
      "cell_type": "code",
      "metadata": {
        "id": "bHT1x6fh2h5U",
        "colab_type": "code",
        "outputId": "8e37ea8d-f9bc-4d66-ac4c-59cd56ef99b7",
        "colab": {
          "base_uri": "https://localhost:8080/",
          "height": 54
        }
      },
      "source": [
        "print(dir(doc._))"
      ],
      "execution_count": 0,
      "outputs": [
        {
          "output_type": "stream",
          "text": [
            "['get', 'has', 'set', 'trf_alignment', 'trf_all_attentions', 'trf_all_hidden_states', 'trf_d_all_attentions', 'trf_d_all_hidden_states', 'trf_d_last_hidden_state', 'trf_d_pooler_output', 'trf_end', 'trf_last_hidden_state', 'trf_pooler_output', 'trf_segments', 'trf_separator', 'trf_start', 'trf_word_pieces', 'trf_word_pieces_']\n"
          ],
          "name": "stdout"
        }
      ]
    },
    {
      "cell_type": "code",
      "metadata": {
        "id": "XRIbg5IA2u6T",
        "colab_type": "code",
        "outputId": "cf4a00da-80ec-4e64-ba4c-08a4666048ec",
        "colab": {
          "base_uri": "https://localhost:8080/",
          "height": 34
        }
      },
      "source": [
        "doc._.trf_alignment"
      ],
      "execution_count": 0,
      "outputs": [
        {
          "output_type": "execute_result",
          "data": {
            "text/plain": [
              "[[1], [2], [3], [4], [5], [6], [7]]"
            ]
          },
          "metadata": {
            "tags": []
          },
          "execution_count": 13
        }
      ]
    },
    {
      "cell_type": "code",
      "metadata": {
        "id": "T4MvDfZG2u_z",
        "colab_type": "code",
        "colab": {}
      },
      "source": [
        "doc._.trf_all_attentions"
      ],
      "execution_count": 0,
      "outputs": []
    },
    {
      "cell_type": "code",
      "metadata": {
        "id": "T14pVE5o3Uj-",
        "colab_type": "code",
        "colab": {}
      },
      "source": [
        "doc._.trf_all_hidden_states"
      ],
      "execution_count": 0,
      "outputs": []
    },
    {
      "cell_type": "code",
      "metadata": {
        "id": "wKosburJ3UoB",
        "colab_type": "code",
        "outputId": "5e23ad0b-fe89-4b36-8f20-500ac236a051",
        "colab": {
          "base_uri": "https://localhost:8080/",
          "height": 34
        }
      },
      "source": [
        "doc._.trf_d_all_attentions"
      ],
      "execution_count": 0,
      "outputs": [
        {
          "output_type": "execute_result",
          "data": {
            "text/plain": [
              "[]"
            ]
          },
          "metadata": {
            "tags": []
          },
          "execution_count": 16
        }
      ]
    },
    {
      "cell_type": "code",
      "metadata": {
        "id": "oxGdzXyq3Urk",
        "colab_type": "code",
        "outputId": "2c8a2767-b727-4ef8-df65-f8b5b0307313",
        "colab": {
          "base_uri": "https://localhost:8080/",
          "height": 34
        }
      },
      "source": [
        "doc._.trf_d_all_hidden_states"
      ],
      "execution_count": 0,
      "outputs": [
        {
          "output_type": "execute_result",
          "data": {
            "text/plain": [
              "[]"
            ]
          },
          "metadata": {
            "tags": []
          },
          "execution_count": 17
        }
      ]
    },
    {
      "cell_type": "code",
      "metadata": {
        "id": "x9BQOrVd3Uvk",
        "colab_type": "code",
        "outputId": "8c9f9e5f-c24c-4e6e-a73c-8db3d14cb1b1",
        "colab": {
          "base_uri": "https://localhost:8080/",
          "height": 34
        }
      },
      "source": [
        "doc._.trf_d_last_hidden_state"
      ],
      "execution_count": 0,
      "outputs": [
        {
          "output_type": "execute_result",
          "data": {
            "text/plain": [
              "array([], shape=(0, 0), dtype=float32)"
            ]
          },
          "metadata": {
            "tags": []
          },
          "execution_count": 18
        }
      ]
    },
    {
      "cell_type": "code",
      "metadata": {
        "id": "YJfTIMHg3Uzk",
        "colab_type": "code",
        "outputId": "8918bb5b-848e-4bd5-add9-8d3ff9984b0c",
        "colab": {
          "base_uri": "https://localhost:8080/",
          "height": 34
        }
      },
      "source": [
        "doc._.trf_d_pooler_output"
      ],
      "execution_count": 0,
      "outputs": [
        {
          "output_type": "execute_result",
          "data": {
            "text/plain": [
              "array([], shape=(0, 0), dtype=float32)"
            ]
          },
          "metadata": {
            "tags": []
          },
          "execution_count": 19
        }
      ]
    },
    {
      "cell_type": "code",
      "metadata": {
        "id": "TyvdKyRy3U3n",
        "colab_type": "code",
        "outputId": "4b9db929-88f8-4590-b346-070979b861f1",
        "colab": {
          "base_uri": "https://localhost:8080/",
          "height": 34
        }
      },
      "source": [
        "doc._.trf_end"
      ],
      "execution_count": 0,
      "outputs": [
        {
          "output_type": "execute_result",
          "data": {
            "text/plain": [
              "8"
            ]
          },
          "metadata": {
            "tags": []
          },
          "execution_count": 20
        }
      ]
    },
    {
      "cell_type": "code",
      "metadata": {
        "id": "lb_SyjKu3U8C",
        "colab_type": "code",
        "outputId": "5352ab69-1cbc-4170-8204-9e7af57c7454",
        "colab": {
          "base_uri": "https://localhost:8080/",
          "height": 289
        }
      },
      "source": [
        "print(f'len of doc._.trf_last_hidden_state: {len(doc._.trf_last_hidden_state)}\\n\\n')\n",
        "doc._.trf_last_hidden_state"
      ],
      "execution_count": 0,
      "outputs": [
        {
          "output_type": "stream",
          "text": [
            "len of doc._.trf_last_hidden_state: 9\n",
            "\n",
            "\n"
          ],
          "name": "stdout"
        },
        {
          "output_type": "execute_result",
          "data": {
            "text/plain": [
              "array([[ 0.10535385,  0.06188994,  0.21569681, ..., -0.27822948,\n",
              "         0.4762323 ,  0.08384846],\n",
              "       [ 0.25369814, -0.14087969,  0.02343122, ..., -0.7123963 ,\n",
              "        -0.11077517, -0.36199537],\n",
              "       [ 1.0855564 , -0.07643908,  0.34801832, ..., -0.2726254 ,\n",
              "         0.43775403,  0.36212504],\n",
              "       ...,\n",
              "       [ 0.2143961 , -0.1587854 ,  0.33104733, ...,  0.23896854,\n",
              "         0.7185059 , -0.76811516],\n",
              "       [ 0.34332028, -0.36023057,  0.05682122, ...,  0.40013903,\n",
              "         0.4216599 , -0.381824  ],\n",
              "       [ 0.84120077,  0.02385291, -0.19828965, ...,  0.34951913,\n",
              "        -0.20228928, -0.2891109 ]], dtype=float32)"
            ]
          },
          "metadata": {
            "tags": []
          },
          "execution_count": 21
        }
      ]
    },
    {
      "cell_type": "code",
      "metadata": {
        "id": "Sd_qScMH3VAJ",
        "colab_type": "code",
        "outputId": "ae863ddb-6abd-4005-b798-83274ca8fe6d",
        "colab": {
          "base_uri": "https://localhost:8080/",
          "height": 1000
        }
      },
      "source": [
        "doc._.trf_pooler_output\n"
      ],
      "execution_count": 0,
      "outputs": [
        {
          "output_type": "execute_result",
          "data": {
            "text/plain": [
              "array([[-8.83356214e-01, -3.59564573e-01,  1.44565597e-01,\n",
              "         6.38517141e-01, -4.72972468e-02, -2.11414471e-01,\n",
              "         9.13932621e-01,  2.93855518e-01, -1.75617531e-01,\n",
              "        -9.99945998e-01,  6.96694255e-02,  5.73827565e-01,\n",
              "         9.79522884e-01, -1.85503095e-01,  9.24535215e-01,\n",
              "        -6.14944518e-01, -4.12149608e-01, -4.69880491e-01,\n",
              "         4.00395721e-01, -7.36149192e-01,  7.68896401e-01,\n",
              "         9.90317643e-01,  4.05995697e-01,  3.44575346e-01,\n",
              "         4.97720212e-01,  7.17405498e-01, -6.62333548e-01,\n",
              "         9.21310723e-01,  9.49000776e-01,  7.52894580e-01,\n",
              "        -7.45440662e-01,  2.79127717e-01, -9.82349157e-01,\n",
              "        -2.52880275e-01,  3.66553129e-03, -9.84831274e-01,\n",
              "         2.35897869e-01, -7.80724645e-01, -7.11967275e-02,\n",
              "        -7.58032203e-02, -8.94781113e-01,  3.19197297e-01,\n",
              "         9.99478877e-01, -2.16222748e-01,  2.10857525e-01,\n",
              "        -3.80970776e-01, -9.99996006e-01,  2.57858068e-01,\n",
              "        -8.61357152e-01,  7.01683462e-02,  1.92019511e-02,\n",
              "        -1.60257239e-02,  1.93222508e-01,  4.46592897e-01,\n",
              "         4.27102536e-01,  2.43309557e-01, -1.04981370e-01,\n",
              "         1.44595370e-01, -1.53647393e-01, -6.04786932e-01,\n",
              "        -5.69890022e-01,  3.88961345e-01, -2.91273743e-01,\n",
              "        -9.03626263e-01,  9.67980921e-02, -2.55241245e-01,\n",
              "        -1.49177969e-01, -3.24097455e-01, -1.02045611e-01,\n",
              "         3.10395062e-02,  8.84483635e-01,  3.39461744e-01,\n",
              "         1.52835831e-01, -8.22660029e-01, -1.92163900e-01,\n",
              "         2.61600614e-01, -5.40149271e-01,  1.00000000e+00,\n",
              "        -5.20697832e-01, -9.64053571e-01,  2.49024600e-01,\n",
              "         1.06360815e-01,  4.43015486e-01,  4.45774704e-01,\n",
              "        -3.19906950e-01, -9.99999940e-01,  3.09339166e-01,\n",
              "        -1.00365482e-01, -9.89023209e-01,  2.16129094e-01,\n",
              "         5.55359840e-01, -2.69078583e-01, -1.98708907e-01,\n",
              "         5.22748351e-01, -2.61506766e-01, -4.54860926e-01,\n",
              "        -2.91060269e-01,  5.90349510e-02, -3.12080115e-01,\n",
              "        -1.57246754e-01,  1.29005611e-01, -2.61062056e-01,\n",
              "        -1.61458999e-01, -2.92037785e-01,  2.07384080e-01,\n",
              "        -3.96065354e-01, -5.11226058e-01,  1.41767979e-01,\n",
              "        -7.88845122e-02,  7.14091718e-01,  3.67879480e-01,\n",
              "        -3.01181346e-01,  4.20045435e-01, -9.41522419e-01,\n",
              "         6.52541220e-01, -2.22416297e-01, -9.82794642e-01,\n",
              "        -5.09244263e-01, -9.86653447e-01,  6.75045848e-01,\n",
              "        -7.11433738e-02, -1.98913962e-01,  9.37222302e-01,\n",
              "         3.36330771e-01,  3.01208466e-01, -1.12768136e-01,\n",
              "        -1.12287007e-01, -1.00000000e+00, -4.19551551e-01,\n",
              "        -4.02448699e-02,  1.23823080e-02, -2.02931285e-01,\n",
              "        -9.70469475e-01, -9.29713368e-01,  6.10727489e-01,\n",
              "         9.29782331e-01,  2.14616090e-01,  9.98462379e-01,\n",
              "        -2.88567245e-01,  9.07092154e-01,  4.33156174e-03,\n",
              "        -1.90116599e-01, -2.24567968e-02, -4.90121931e-01,\n",
              "         2.81821609e-01,  4.13145214e-01, -6.58476233e-01,\n",
              "         2.97108084e-01, -8.52096733e-03,  1.16847739e-01,\n",
              "        -4.52137262e-01, -2.43334651e-01,  7.86854103e-02,\n",
              "        -9.23955262e-01, -4.12881494e-01,  9.35811877e-01,\n",
              "         2.28507444e-04, -1.79730743e-01,  5.30981600e-01,\n",
              "        -2.54951268e-01, -5.14006793e-01,  8.43054712e-01,\n",
              "         3.35311204e-01,  4.14553970e-01, -8.76302496e-02,\n",
              "         3.50308180e-01, -1.80988371e-01,  4.86857772e-01,\n",
              "        -8.44913185e-01,  1.15295738e-01,  4.07790184e-01,\n",
              "        -2.10933939e-01,  1.37737498e-01, -9.75510836e-01,\n",
              "        -2.84658432e-01,  5.14892161e-01,  9.81131494e-01,\n",
              "         7.67747462e-01,  2.34892771e-01,  2.70070374e-01,\n",
              "        -2.57218003e-01,  3.87642562e-01, -9.45758700e-01,\n",
              "         9.72317457e-01, -2.67065167e-01,  3.49273115e-01,\n",
              "         1.81753606e-01,  1.57181785e-01, -8.30824494e-01,\n",
              "        -4.20171052e-01,  9.03991163e-01, -2.01416925e-01,\n",
              "        -7.82497227e-01, -5.69556803e-02, -4.00038034e-01,\n",
              "        -4.10671085e-01,  3.39053050e-02,  6.96617961e-01,\n",
              "        -2.90549457e-01, -3.28348637e-01, -7.52891600e-02,\n",
              "         9.10346687e-01,  9.77174699e-01,  7.59784400e-01,\n",
              "        -2.41493717e-01,  6.45531118e-01, -8.88628542e-01,\n",
              "        -4.52880561e-01,  1.90722287e-01,  2.45715603e-01,\n",
              "         2.48211905e-01,  9.90454137e-01, -2.70617157e-01,\n",
              "        -2.02914923e-01, -8.82813215e-01, -9.80581045e-01,\n",
              "         1.08255252e-01, -8.63440275e-01, -1.08681925e-01,\n",
              "        -7.16791511e-01,  3.26236248e-01,  4.25342143e-01,\n",
              "         2.85433494e-02,  3.10674131e-01, -9.76505876e-01,\n",
              "        -8.29953074e-01,  4.32640523e-01, -2.93913364e-01,\n",
              "         4.16999280e-01, -2.95879036e-01,  5.79060793e-01,\n",
              "         3.46178561e-01, -6.64543152e-01,  8.44663739e-01,\n",
              "         8.78693342e-01, -2.44520623e-02, -6.95484281e-01,\n",
              "         8.11064184e-01, -3.35415959e-01,  8.92340124e-01,\n",
              "        -6.46271050e-01,  9.85858083e-01,  2.42117703e-01,\n",
              "         6.50202870e-01, -9.30505216e-01, -3.42158489e-02,\n",
              "        -9.34593022e-01, -4.63609770e-02, -1.21679053e-01,\n",
              "        -5.46652794e-01,  1.12945408e-01,  5.18372118e-01,\n",
              "         3.56873184e-01,  7.54288733e-01, -6.01957142e-01,\n",
              "         9.97793078e-01, -4.19834793e-01, -9.47269201e-01,\n",
              "         5.80502450e-02, -1.60868213e-01, -9.83386278e-01,\n",
              "         1.60675645e-01,  2.27754697e-01, -4.93496835e-01,\n",
              "        -3.87114614e-01, -6.44220352e-01, -9.54003334e-01,\n",
              "         8.97666633e-01,  2.02871725e-01,  9.81955588e-01,\n",
              "        -6.89003915e-02, -9.30814087e-01, -4.12268132e-01,\n",
              "        -9.04234529e-01, -7.18204826e-02, -2.42685109e-01,\n",
              "         4.66964275e-01, -2.95868590e-02, -9.27280188e-01,\n",
              "         3.92474085e-01,  4.90993053e-01,  4.79369372e-01,\n",
              "         1.67916954e-01,  9.97383118e-01,  9.99933720e-01,\n",
              "         9.66493368e-01,  8.63096058e-01,  9.23587620e-01,\n",
              "        -9.83932912e-01, -1.70390084e-01,  9.99981284e-01,\n",
              "        -8.30517113e-01, -9.99999583e-01, -9.15675223e-01,\n",
              "        -6.15453720e-01,  4.50566322e-01, -1.00000000e+00,\n",
              "        -2.52547920e-01, -3.22870258e-03, -8.74789536e-01,\n",
              "         1.81894854e-01,  9.75986779e-01,  9.93298531e-01,\n",
              "        -1.00000000e+00,  8.90850782e-01,  9.40124571e-01,\n",
              "        -5.31319320e-01,  5.75396121e-01, -2.87955403e-01,\n",
              "         9.74840879e-01,  3.27400059e-01,  4.81299341e-01,\n",
              "        -2.50355870e-01,  4.35046256e-01, -3.68761212e-01,\n",
              "        -9.08507645e-01,  1.59703672e-01, -1.30817676e-02,\n",
              "         8.88065040e-01,  2.12451473e-01, -7.39882052e-01,\n",
              "        -9.26064849e-01,  1.22448439e-02, -2.44541794e-01,\n",
              "        -1.63409367e-01, -9.44489777e-01, -2.39222020e-01,\n",
              "         6.88828155e-02,  6.90784991e-01,  1.34535506e-01,\n",
              "         2.28959158e-01, -6.82354569e-01,  2.64762253e-01,\n",
              "        -6.09101772e-01,  4.60569113e-01,  5.94434381e-01,\n",
              "        -8.92010212e-01, -6.56888843e-01, -8.16863999e-02,\n",
              "        -1.61549121e-01, -1.16138756e-01, -9.28645492e-01,\n",
              "         9.54778194e-01, -3.52460682e-01,  1.57329887e-01,\n",
              "         1.00000000e+00, -9.38900411e-02, -8.60202968e-01,\n",
              "         3.40606630e-01,  2.81547993e-01,  5.48590627e-03,\n",
              "         1.00000000e+00,  2.61291921e-01, -9.71663892e-01,\n",
              "        -5.21613181e-01,  2.01092884e-01, -4.87216592e-01,\n",
              "        -4.86140132e-01,  9.98759747e-01, -2.65377492e-01,\n",
              "         4.40906696e-02,  1.84789419e-01,  9.68325138e-01,\n",
              "        -9.86407816e-01,  5.81464887e-01, -8.94794583e-01,\n",
              "        -9.52472985e-01,  9.40444767e-01,  8.96124840e-01,\n",
              "        -3.26234639e-01, -6.41796589e-01,  1.87376127e-01,\n",
              "        -1.03190921e-01,  3.02735955e-01, -9.58058715e-01,\n",
              "         6.90041304e-01,  4.35836375e-01, -2.58733463e-02,\n",
              "         8.82462382e-01, -8.78862977e-01, -4.77622926e-01,\n",
              "         3.83956283e-01, -2.48863831e-01,  6.82763979e-02,\n",
              "         1.94303498e-01,  5.26361942e-01, -2.38808781e-01,\n",
              "         2.13467956e-01, -3.64450574e-01, -2.75766581e-01,\n",
              "        -9.62864816e-01, -2.00327206e-02,  9.99999940e-01,\n",
              "        -2.16736302e-01, -1.69040039e-01, -3.07361096e-01,\n",
              "        -3.63009125e-02, -1.93768725e-01,  3.91473979e-01,\n",
              "         4.33454186e-01, -3.21768314e-01, -7.81034291e-01,\n",
              "         1.47095263e-01, -9.40872490e-01, -9.85844493e-01,\n",
              "         7.50414431e-01,  3.26545209e-01, -2.92905718e-01,\n",
              "         9.99882162e-01,  2.68059969e-01,  1.56286433e-01,\n",
              "        -4.90654400e-03,  7.22245276e-01,  1.03689156e-01,\n",
              "         6.25842869e-01, -4.14598510e-02,  9.57683623e-01,\n",
              "        -2.36059994e-01,  4.54544872e-01,  8.61865461e-01,\n",
              "        -4.30372357e-02, -3.38646352e-01, -6.57213211e-01,\n",
              "         1.44594967e-01, -8.77175331e-01,  2.97759473e-02,\n",
              "        -9.32918012e-01,  9.32295203e-01,  2.06608132e-01,\n",
              "         2.56059825e-01,  1.13427468e-01, -1.36551291e-01,\n",
              "         1.00000000e+00, -2.60496348e-01,  7.08132625e-01,\n",
              "        -7.12054193e-01,  8.50526631e-01, -9.44409490e-01,\n",
              "        -7.46849060e-01, -4.38327491e-01, -4.61018123e-02,\n",
              "         2.59068668e-01, -2.32944772e-01,  2.62509108e-01,\n",
              "        -9.62580919e-01, -8.60043019e-02, -7.73082450e-02,\n",
              "        -9.71545696e-01, -9.86095488e-01,  2.97324538e-01,\n",
              "         8.54736328e-01,  1.26360282e-01, -7.41610885e-01,\n",
              "        -7.87578285e-01, -5.25400996e-01,  1.55937582e-01,\n",
              "        -2.15337977e-01, -9.20862913e-01,  5.54089487e-01,\n",
              "        -3.41028184e-01,  5.28663516e-01, -2.87494063e-01,\n",
              "         4.92501915e-01, -1.34019047e-01,  7.60103345e-01,\n",
              "         2.50054508e-01, -2.34427854e-01, -1.54870570e-01,\n",
              "        -8.58607709e-01,  8.40939939e-01, -8.48816931e-01,\n",
              "        -3.11542064e-01, -9.42136720e-02,  1.00000000e+00,\n",
              "        -2.96928883e-01,  3.52351397e-01,  6.93889380e-01,\n",
              "         6.64411724e-01, -1.76090866e-01,  1.69581592e-01,\n",
              "         2.98696429e-01,  1.64417431e-01,  6.34382144e-02,\n",
              "         8.15240294e-02, -8.68389904e-01, -3.36200207e-01,\n",
              "         5.78157246e-01, -2.49830797e-01, -1.90204352e-01,\n",
              "         7.62384236e-01,  3.08726460e-01,  2.86739826e-01,\n",
              "        -7.91631490e-02,  8.17423314e-02,  9.99270260e-01,\n",
              "        -2.93286949e-01, -2.25744337e-01, -5.87515891e-01,\n",
              "        -6.31293375e-03, -3.55151951e-01, -7.12758780e-01,\n",
              "         9.99999762e-01,  3.56968939e-01,  1.38913170e-01,\n",
              "        -9.90122437e-01, -1.71512619e-01, -9.21426356e-01,\n",
              "         9.99828815e-01,  8.13841879e-01, -8.49955261e-01,\n",
              "         5.46022832e-01,  3.08921516e-01, -2.21486956e-01,\n",
              "         7.81277657e-01, -1.56306624e-01, -2.77351677e-01,\n",
              "         2.95994729e-01,  2.12468803e-01,  9.45609689e-01,\n",
              "        -4.72090811e-01, -9.57683086e-01, -6.62267506e-01,\n",
              "         3.09462100e-01, -9.34587598e-01,  9.77986813e-01,\n",
              "        -4.92577702e-01, -1.76078469e-01, -3.27558815e-01,\n",
              "        -1.09676011e-01,  8.98748219e-01,  3.86575945e-02,\n",
              "        -9.69545662e-01, -2.04974607e-01,  1.46782294e-01,\n",
              "         9.64778185e-01,  1.62128568e-01, -5.23396134e-01,\n",
              "        -9.19474721e-01, -1.61339611e-01,  1.12393863e-01,\n",
              "        -8.74396879e-03, -8.86580884e-01,  9.70106900e-01,\n",
              "        -9.63700950e-01,  4.86272156e-01,  9.99999523e-01,\n",
              "         2.88051188e-01, -5.42641282e-01,  1.92109287e-01,\n",
              "        -5.10979116e-01,  3.12922508e-01,  1.11665152e-01,\n",
              "         7.02295303e-01, -9.34757292e-01, -3.29954356e-01,\n",
              "        -2.36583441e-01,  2.95450509e-01, -1.65193021e-01,\n",
              "         6.88953400e-02,  6.26018345e-01,  2.23587289e-01,\n",
              "        -4.48260278e-01, -5.61137259e-01, -6.78929314e-02,\n",
              "         4.95420158e-01,  8.30062926e-01, -3.51429224e-01,\n",
              "        -1.94119051e-01,  4.24504653e-02, -1.37862176e-01,\n",
              "        -8.99814606e-01, -2.59820968e-01, -1.79662839e-01,\n",
              "        -9.96972919e-01,  6.81767404e-01, -1.00000000e+00,\n",
              "        -1.44949809e-01, -4.70389128e-01, -2.75246918e-01,\n",
              "         7.99561977e-01,  4.09754008e-01,  9.56031531e-02,\n",
              "        -6.84303045e-01, -1.47000952e-02,  7.79928029e-01,\n",
              "         6.91080987e-01, -2.17453077e-01,  7.03068301e-02,\n",
              "        -6.35323703e-01,  2.26959988e-01, -1.87414005e-01,\n",
              "         2.75668055e-01,  3.48344892e-02,  7.33056486e-01,\n",
              "        -2.14879841e-01,  1.00000000e+00,  1.04268469e-01,\n",
              "        -5.82166314e-01, -9.64163959e-01,  3.01280349e-01,\n",
              "        -2.61106014e-01,  9.99979615e-01, -9.05634284e-01,\n",
              "        -9.54241335e-01,  3.16112429e-01, -6.47606730e-01,\n",
              "        -8.13986599e-01,  2.69399256e-01, -8.25519674e-03,\n",
              "        -7.18034267e-01, -2.88988948e-01,  9.43615258e-01,\n",
              "         9.32528377e-01, -4.73072410e-01,  4.89345908e-01,\n",
              "        -3.46990943e-01, -4.96862173e-01,  1.48822721e-02,\n",
              "        -1.15108348e-01,  9.82662976e-01,  3.64180148e-01,\n",
              "         8.94275188e-01,  1.09334208e-01,  2.73458622e-02,\n",
              "         9.31196272e-01,  2.23106295e-01,  6.75145924e-01,\n",
              "         9.88082588e-02,  9.99999762e-01,  3.26713353e-01,\n",
              "        -9.06925678e-01,  3.43030185e-01, -9.74694371e-01,\n",
              "        -2.18944162e-01, -9.56854701e-01,  3.08250189e-01,\n",
              "         2.26929635e-01,  8.78053963e-01, -2.81516492e-01,\n",
              "         9.59265232e-01,  2.70649046e-02,  1.52376562e-01,\n",
              "        -1.79831281e-01,  5.25755167e-01,  4.48713481e-01,\n",
              "        -9.23982739e-01, -9.80747521e-01, -9.79492128e-01,\n",
              "         2.80350298e-01, -4.33233768e-01, -1.26332492e-01,\n",
              "         3.23901445e-01,  1.97960943e-01,  3.66628885e-01,\n",
              "         4.41804707e-01, -9.99999166e-01,  9.19322491e-01,\n",
              "         4.47416991e-01,  6.41446561e-02,  9.66911852e-01,\n",
              "         3.63422573e-01,  2.63953716e-01,  2.55470276e-01,\n",
              "        -9.82175350e-01, -9.69062626e-01, -3.26868683e-01,\n",
              "        -3.19687963e-01,  8.37612391e-01,  6.47055149e-01,\n",
              "         8.55780482e-01,  4.04181421e-01, -5.03426611e-01,\n",
              "        -4.48890716e-01,  2.18919054e-01, -4.53906238e-01,\n",
              "        -9.87922609e-01,  4.07860070e-01,  6.34741709e-02,\n",
              "        -9.73782718e-01,  9.43561196e-01, -2.99025804e-01,\n",
              "        -1.57256901e-01,  6.16479039e-01, -4.17460293e-01,\n",
              "         9.58186805e-01,  8.25488806e-01,  5.84608912e-01,\n",
              "         1.12958685e-01,  5.71793377e-01,  8.94142807e-01,\n",
              "         9.59671319e-01,  9.84628975e-01, -9.83501822e-02,\n",
              "         8.30909491e-01,  1.68745890e-01,  3.97093058e-01,\n",
              "         5.04868746e-01, -9.09986198e-01,  7.61945248e-02,\n",
              "         1.64604843e-01, -2.42127061e-01,  2.88366973e-01,\n",
              "        -2.88983166e-01, -9.63397563e-01,  3.26911956e-01,\n",
              "        -1.80125505e-01,  5.22478878e-01, -3.79533201e-01,\n",
              "         2.15958664e-03, -3.75324905e-01, -2.29894340e-01,\n",
              "        -6.80733144e-01, -5.99974990e-01,  5.72173119e-01,\n",
              "         3.96545142e-01,  9.24883246e-01,  3.03436577e-01,\n",
              "        -1.23871624e-01, -5.78344762e-01, -1.86443895e-01,\n",
              "         1.28410578e-01, -9.14674401e-01,  9.24571276e-01,\n",
              "        -2.45855413e-02,  2.61898726e-01, -1.99232787e-01,\n",
              "        -1.31196808e-02,  7.03412235e-01, -3.77670974e-01,\n",
              "        -3.33996832e-01, -3.72120470e-01, -6.97121739e-01,\n",
              "         8.52804780e-01, -3.42640191e-01, -5.04967988e-01,\n",
              "        -5.61808288e-01,  6.48455501e-01,  3.78018379e-01,\n",
              "         9.95087326e-01,  6.34029973e-03, -1.97097585e-01,\n",
              "        -2.97347277e-01, -2.98828840e-01,  2.75425434e-01,\n",
              "        -4.08260524e-01, -9.99999583e-01,  3.51213068e-01,\n",
              "         2.05487728e-01,  2.81644054e-02,  1.06350355e-01,\n",
              "        -1.67899847e-01, -2.95380563e-01, -9.73929465e-01,\n",
              "        -2.57502556e-01,  2.33410969e-01, -1.52450264e-01,\n",
              "        -5.54786623e-01, -4.09476966e-01,  4.64785308e-01,\n",
              "         3.94494623e-01,  5.16421735e-01,  8.98131549e-01,\n",
              "        -1.99294999e-01,  4.44344163e-01,  5.14464080e-01,\n",
              "         1.40884504e-01, -6.73102140e-01,  8.55134547e-01]], dtype=float32)"
            ]
          },
          "metadata": {
            "tags": []
          },
          "execution_count": 24
        }
      ]
    },
    {
      "cell_type": "code",
      "metadata": {
        "id": "FYvNAmRt3VEa",
        "colab_type": "code",
        "outputId": "959c2ca1-4a0c-49d6-f25a-7fbaca7f2df8",
        "colab": {
          "base_uri": "https://localhost:8080/",
          "height": 51
        }
      },
      "source": [
        "for i in doc._.trf_segments:\n",
        "  print(i, '\\n')"
      ],
      "execution_count": 0,
      "outputs": [
        {
          "output_type": "stream",
          "text": [
            "Apple shares rose on the news news \n",
            "\n"
          ],
          "name": "stdout"
        }
      ]
    },
    {
      "cell_type": "code",
      "metadata": {
        "id": "orLg1g5B3gKN",
        "colab_type": "code",
        "colab": {}
      },
      "source": [
        "doc._.trf_separator"
      ],
      "execution_count": 0,
      "outputs": []
    },
    {
      "cell_type": "code",
      "metadata": {
        "id": "ZEDz5G4l3gRe",
        "colab_type": "code",
        "outputId": "f3ac42f7-2297-46b6-f528-2688f437f69e",
        "colab": {
          "base_uri": "https://localhost:8080/",
          "height": 34
        }
      },
      "source": [
        "doc._.trf_start"
      ],
      "execution_count": 0,
      "outputs": [
        {
          "output_type": "execute_result",
          "data": {
            "text/plain": [
              "0"
            ]
          },
          "metadata": {
            "tags": []
          },
          "execution_count": 27
        }
      ]
    },
    {
      "cell_type": "code",
      "metadata": {
        "id": "yPB-FTqM3gVj",
        "colab_type": "code",
        "outputId": "c2e31c1f-3697-4ceb-c5e0-6a9c0bdc1ed4",
        "colab": {
          "base_uri": "https://localhost:8080/",
          "height": 34
        }
      },
      "source": [
        "doc._.trf_word_pieces"
      ],
      "execution_count": 0,
      "outputs": [
        {
          "output_type": "execute_result",
          "data": {
            "text/plain": [
              "[101, 6207, 6661, 3123, 2006, 1996, 2739, 2739, 102]"
            ]
          },
          "metadata": {
            "tags": []
          },
          "execution_count": 28
        }
      ]
    },
    {
      "cell_type": "code",
      "metadata": {
        "id": "Eu63B94z3gdw",
        "colab_type": "code",
        "outputId": "00d26674-80fb-4e49-c87b-5b81bdd1a648",
        "colab": {
          "base_uri": "https://localhost:8080/",
          "height": 34
        }
      },
      "source": [
        "doc._.trf_word_pieces_"
      ],
      "execution_count": 0,
      "outputs": [
        {
          "output_type": "execute_result",
          "data": {
            "text/plain": [
              "['[CLS]', 'apple', 'shares', 'rose', 'on', 'the', 'news', 'news', '[SEP]']"
            ]
          },
          "metadata": {
            "tags": []
          },
          "execution_count": 29
        }
      ]
    },
    {
      "cell_type": "code",
      "metadata": {
        "id": "d2hNAH9j3gaE",
        "colab_type": "code",
        "colab": {}
      },
      "source": [
        ""
      ],
      "execution_count": 0,
      "outputs": []
    },
    {
      "cell_type": "code",
      "metadata": {
        "id": "w25-LHLnyav7",
        "colab_type": "code",
        "colab": {}
      },
      "source": [
        "\n",
        "\n",
        "data = []\n",
        "\n",
        "word_emb = list(zip(doc._.trf_word_pieces_, doc._.trf_last_hidden_state))\n",
        "\n",
        "\n",
        "for state in combinations(word_emb, 2):\n",
        "  \n",
        "  word1 = np.array(state[0][0])\n",
        "  word2 = np.array(state[1][0])\n",
        "  embedding1 = np.array(state[0][1]).reshape(1, -1) \n",
        "  embedding2 = np.array(state[1][1]).reshape(1, -1) \n",
        "  \n",
        "  score = cosine_similarity(embedding1, embedding2)\n",
        "  \n",
        "  data.append([word1.item(), word2.item(), score.item()])\n",
        "  \n",
        "sorted(data, key=lambda x: x[2])"
      ],
      "execution_count": 0,
      "outputs": []
    },
    {
      "cell_type": "code",
      "metadata": {
        "id": "h2Wpeg2c6p0b",
        "colab_type": "code",
        "colab": {}
      },
      "source": [
        ""
      ],
      "execution_count": 0,
      "outputs": []
    },
    {
      "cell_type": "code",
      "metadata": {
        "id": "BtRc4ZhBH8op",
        "colab_type": "code",
        "outputId": "aee39f52-3393-48b4-873a-eaa27ad5cf12",
        "colab": {
          "base_uri": "https://localhost:8080/",
          "height": 425
        }
      },
      "source": [
        "def get_wordpiece(nlp, model_name): \n",
        "  print(f'\\n\\nmodel name: {model_name}')\n",
        "  doc = nlp(\"An apple is a fruit\")\n",
        "  print(f'len of doc._.trf_last_hidden_state: {len(doc._.trf_last_hidden_state)}')\n",
        "  print(f'doc._.trf_alignment: {doc._.trf_alignment}')\n",
        "  print(f'doc._.trf_word_pieces_: {doc._.trf_word_pieces_}')\n",
        "  \n",
        "  \n",
        "nlp = spacy.load('en_trf_distilbertbaseuncased_lg')\n",
        "get_wordpiece(nlp, 'en_trf_distilbertbaseuncased_lg')\n",
        "\n",
        "nlp = spacy.load('en_trf_robertabase_lg')\n",
        "get_wordpiece(nlp, 'en_trf_robertabase_lg')\n",
        "\n",
        "nlp = spacy.load('en_trf_xlnetbasecased_lg')\n",
        "get_wordpiece(nlp, 'en_trf_xlnetbasecased_lg')\n",
        "\n",
        "nlp = spacy.load('en_trf_bertbaseuncased_lg')\n",
        "get_wordpiece(nlp, 'en_trf_bertbaseuncased_lg')"
      ],
      "execution_count": 0,
      "outputs": [
        {
          "output_type": "stream",
          "text": [
            "\n",
            "\n",
            "model name: en_trf_distilbertbaseuncased_lg\n",
            "len of doc._.trf_last_hidden_state: 7\n",
            "doc._.trf_alignment: [[1], [2], [3], [4], [5]]\n",
            "doc._.trf_word_pieces_: ['[CLS]', 'an', 'apple', 'is', 'a', 'fruit', '[SEP]']\n",
            "\n",
            "\n",
            "model name: en_trf_robertabase_lg\n",
            "len of doc._.trf_last_hidden_state: 7\n",
            "doc._.trf_alignment: [[1], [2], [3], [4], [5]]\n",
            "doc._.trf_word_pieces_: ['<s>', 'An', 'Ġapple', 'Ġis', 'Ġa', 'Ġfruit', '</s>']\n",
            "\n",
            "\n",
            "model name: en_trf_xlnetbasecased_lg\n",
            "len of doc._.trf_last_hidden_state: 7\n",
            "doc._.trf_alignment: [[0], [1], [2], [3], [4]]\n",
            "doc._.trf_word_pieces_: ['▁An', '▁apple', '▁is', '▁a', '▁fruit', '</s>', '<cls>']\n",
            "\n",
            "\n",
            "model name: en_trf_bertbaseuncased_lg\n",
            "len of doc._.trf_last_hidden_state: 7\n",
            "doc._.trf_alignment: [[1], [2], [3], [4], [5]]\n",
            "doc._.trf_word_pieces_: ['[CLS]', 'an', 'apple', 'is', 'a', 'fruit', '[SEP]']\n"
          ],
          "name": "stdout"
        }
      ]
    },
    {
      "cell_type": "code",
      "metadata": {
        "id": "cvUekLM4GWoV",
        "colab_type": "code",
        "outputId": "3a4bff0e-5ae0-4aaf-f976-743d5f3f8925",
        "colab": {
          "base_uri": "https://localhost:8080/",
          "height": 34
        }
      },
      "source": [
        ""
      ],
      "execution_count": 0,
      "outputs": [
        {
          "output_type": "stream",
          "text": [
            "['sentencizer', 'trf_wordpiecer', 'trf_tok2vec']\n"
          ],
          "name": "stdout"
        }
      ]
    },
    {
      "cell_type": "code",
      "metadata": {
        "colab_type": "code",
        "id": "Eg2H5wM3Bjzl",
        "outputId": "70439137-7065-4301-82a7-4b15dcef0181",
        "colab": {
          "base_uri": "https://localhost:8080/",
          "height": 1000
        }
      },
      "source": [
        "def eval_model(nlp, model_name):\n",
        "  \n",
        "  print(f'\\n\\nmodel name: {model_name}')\n",
        "  apple_fruit1 = nlp(\"An apple is a fruit\")\n",
        "  apple_fruit2 = nlp(\"I ate the tasty apple from the tree\")\n",
        "  apple_company = nlp(\"phones made by Apple have large screens and cell service\")\n",
        "  \n",
        "  fruit1 = np.array(apple_fruit1._.trf_last_hidden_state[0]).reshape(1, -1) \n",
        "  fruit2 = np.array(apple_fruit2._.trf_last_hidden_state[0]).reshape(1, -1) \n",
        "  company = np.array(apple_company._.trf_last_hidden_state[0]).reshape(1, -1) \n",
        "  \n",
        "  print('cls similarity')\n",
        "  print(f'fruit1, fruit2: {cosine_similarity(fruit1, fruit2)}')\n",
        "  print(f'fruit1, company: {cosine_similarity(fruit1, company)}')\n",
        "  print(f'fruit2, company: {cosine_similarity(fruit2, company)}')\n",
        "        \n",
        "  print('\\ndoc similarity')\n",
        "  print(f'fruit1, fruit2:  {apple_fruit1.similarity(apple_fruit2)}')\n",
        "  print(f'fruit1, company: {apple_fruit1.similarity(apple_company)}')\n",
        "  print(f'fruit2, company: {apple_fruit2.similarity(apple_company)}')\n",
        "\n",
        "  print('\\ntoken similarity')\n",
        "  print(f'fruit1, fruit2:  {apple_fruit1[1].similarity(apple_fruit2[4])}')\n",
        "  print(f'fruit1, company: {apple_fruit1[1].similarity(apple_company[3])}')\n",
        "  print(f'fruit2, company: {apple_fruit2[4].similarity(apple_company[3])}')\n",
        "\n",
        "#nlp = spacy.load('en_core_web_lg')\n",
        "#eval_model(nlp, 'en_core_web_lg')\n",
        "\n",
        "nlp = spacy.load('en_trf_distilbertbaseuncased_lg')\n",
        "eval_model(nlp, 'en_trf_distilbertbaseuncased_lg')\n",
        "\n",
        "nlp = spacy.load('en_trf_robertabase_lg')\n",
        "eval_model(nlp, 'en_trf_robertabase_lg')\n",
        "\n",
        "nlp = spacy.load('en_trf_xlnetbasecased_lg')\n",
        "eval_model(nlp, 'en_trf_xlnetbasecased_lg')\n",
        "\n",
        "nlp = spacy.load('en_trf_bertbaseuncased_lg')\n",
        "eval_model(nlp, 'en_trf_bertbaseuncased_lg')"
      ],
      "execution_count": 0,
      "outputs": [
        {
          "output_type": "stream",
          "text": [
            "\n",
            "\n",
            "model name: en_trf_distilbertbaseuncased_lg\n",
            "cls similarity\n",
            "fruit1, fruit2: [[0.95431364]]\n",
            "fruit1, company: [[0.9543853]]\n",
            "fruit2, company: [[0.9451714]]\n",
            "\n",
            "doc similarity\n",
            "fruit1, fruit2:  0.7214712608055848\n",
            "fruit1, company: 0.6150731677921323\n",
            "fruit2, company: 0.6333489467341019\n",
            "\n",
            "token similarity\n",
            "fruit1, fruit2:  0.830289363861084\n",
            "fruit1, company: 0.6710572242736816\n",
            "fruit2, company: 0.6262279748916626\n",
            "\n",
            "\n",
            "model name: en_trf_robertabase_lg\n",
            "cls similarity\n",
            "fruit1, fruit2: [[0.9982006]]\n",
            "fruit1, company: [[0.997522]]\n",
            "fruit2, company: [[0.99718994]]\n",
            "\n",
            "doc similarity\n",
            "fruit1, fruit2:  0.9667617999997291\n",
            "fruit1, company: 0.9471189378034655\n",
            "fruit2, company: 0.9599576470452009\n",
            "\n",
            "token similarity\n",
            "fruit1, fruit2:  0.9708057641983032\n",
            "fruit1, company: 0.9294208288192749\n",
            "fruit2, company: 0.9238879084587097\n",
            "\n",
            "\n",
            "model name: en_trf_xlnetbasecased_lg\n",
            "cls similarity\n",
            "fruit1, fruit2: [[0.86462605]]\n",
            "fruit1, company: [[0.869514]]\n",
            "fruit2, company: [[0.8624132]]\n",
            "\n",
            "doc similarity\n",
            "fruit1, fruit2:  0.9847751440301509\n",
            "fruit1, company: 0.9805416360242849\n",
            "fruit2, company: 0.9837102332113273\n",
            "\n",
            "token similarity\n",
            "fruit1, fruit2:  0.9818979501724243\n",
            "fruit1, company: 0.9697693586349487\n",
            "fruit2, company: 0.9683964252471924\n",
            "\n",
            "\n",
            "model name: en_trf_bertbaseuncased_lg\n",
            "cls similarity\n",
            "fruit1, fruit2: [[0.8794307]]\n",
            "fruit1, company: [[0.9281547]]\n",
            "fruit2, company: [[0.8920479]]\n",
            "\n",
            "doc similarity\n",
            "fruit1, fruit2:  0.6088846977574162\n",
            "fruit1, company: 0.5323818891866933\n",
            "fruit2, company: 0.4972207218369349\n",
            "\n",
            "token similarity\n",
            "fruit1, fruit2:  0.7247173190116882\n",
            "fruit1, company: 0.5680296421051025\n",
            "fruit2, company: 0.4975493252277374\n"
          ],
          "name": "stdout"
        }
      ]
    }
  ]
}